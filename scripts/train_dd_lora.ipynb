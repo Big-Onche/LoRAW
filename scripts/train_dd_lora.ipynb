{
 "cells": [
  {
   "cell_type": "code",
   "execution_count": 35,
   "metadata": {},
   "outputs": [],
   "source": [
    "import torch\n",
    "from pathlib import Path\n",
    "from util.util import load_audio, crop_audio\n",
    "from util.platform import get_torch_device_type\n",
    "from dance_diffusion.api import RequestHandler, Request, RequestType, ModelType\n",
    "from diffusion_library.sampler import SamplerType\n",
    "from diffusion_library.scheduler import SchedulerType\n",
    "\n",
    "import wandb"
   ]
  },
  {
   "cell_type": "code",
   "execution_count": 44,
   "metadata": {},
   "outputs": [],
   "source": [
    "def log_audio_tensor(run, name, audio_tensor, sample_rate):\n",
    "    table = wandb.Table(columns=['Index', 'Audio'])\n",
    "    for index, sample in enumerate(audio_tensor.cpu().numpy()):\n",
    "        audio = wandb.Audio(sample[0], sample_rate=sample_rate)  # Has to be mono\n",
    "        table.add_data(index, audio)\n",
    "    run.log({name: table})"
   ]
  },
  {
   "attachments": {},
   "cell_type": "markdown",
   "metadata": {},
   "source": [
    "## Set up model"
   ]
  },
  {
   "cell_type": "code",
   "execution_count": 37,
   "metadata": {},
   "outputs": [
    {
     "data": {
      "text/html": [
       "Finishing last run (ID:ey1gghbb) before initializing another..."
      ],
      "text/plain": [
       "<IPython.core.display.HTML object>"
      ]
     },
     "metadata": {},
     "output_type": "display_data"
    },
    {
     "data": {
      "text/html": [
       "Waiting for W&B process to finish... <strong style=\"color:green\">(success).</strong>"
      ],
      "text/plain": [
       "<IPython.core.display.HTML object>"
      ]
     },
     "metadata": {},
     "output_type": "display_data"
    },
    {
     "data": {
      "text/html": [
       " View run <strong style=\"color:#cdcd00\">visionary-butterfly-3</strong> at: <a href='https://wandb.ai/gcpage/loraw_dev/runs/ey1gghbb' target=\"_blank\">https://wandb.ai/gcpage/loraw_dev/runs/ey1gghbb</a><br/>Synced 6 W&B file(s), 0 media file(s), 0 artifact file(s) and 0 other file(s)"
      ],
      "text/plain": [
       "<IPython.core.display.HTML object>"
      ]
     },
     "metadata": {},
     "output_type": "display_data"
    },
    {
     "data": {
      "text/html": [
       "Find logs at: <code>.\\wandb\\run-20230705_164140-ey1gghbb\\logs</code>"
      ],
      "text/plain": [
       "<IPython.core.display.HTML object>"
      ]
     },
     "metadata": {},
     "output_type": "display_data"
    },
    {
     "data": {
      "text/html": [
       "Successfully finished last run (ID:ey1gghbb). Initializing new run:<br/>"
      ],
      "text/plain": [
       "<IPython.core.display.HTML object>"
      ]
     },
     "metadata": {},
     "output_type": "display_data"
    },
    {
     "data": {
      "text/html": [
       "wandb version 0.15.5 is available!  To upgrade, please run:\n",
       " $ pip install wandb --upgrade"
      ],
      "text/plain": [
       "<IPython.core.display.HTML object>"
      ]
     },
     "metadata": {},
     "output_type": "display_data"
    },
    {
     "data": {
      "text/html": [
       "Tracking run with wandb version 0.15.2"
      ],
      "text/plain": [
       "<IPython.core.display.HTML object>"
      ]
     },
     "metadata": {},
     "output_type": "display_data"
    },
    {
     "data": {
      "text/html": [
       "Run data is saved locally in <code>c:\\Users\\Griffin\\Documents\\Github\\LoRAW\\scripts\\wandb\\run-20230705_171945-cao0xeum</code>"
      ],
      "text/plain": [
       "<IPython.core.display.HTML object>"
      ]
     },
     "metadata": {},
     "output_type": "display_data"
    },
    {
     "data": {
      "text/html": [
       "Syncing run <strong><a href='https://wandb.ai/gcpage/loraw_dev/runs/cao0xeum' target=\"_blank\">super-star-4</a></strong> to <a href='https://wandb.ai/gcpage/loraw_dev' target=\"_blank\">Weights & Biases</a> (<a href='https://wandb.me/run' target=\"_blank\">docs</a>)<br/>"
      ],
      "text/plain": [
       "<IPython.core.display.HTML object>"
      ]
     },
     "metadata": {},
     "output_type": "display_data"
    },
    {
     "data": {
      "text/html": [
       " View project at <a href='https://wandb.ai/gcpage/loraw_dev' target=\"_blank\">https://wandb.ai/gcpage/loraw_dev</a>"
      ],
      "text/plain": [
       "<IPython.core.display.HTML object>"
      ]
     },
     "metadata": {},
     "output_type": "display_data"
    },
    {
     "data": {
      "text/html": [
       " View run at <a href='https://wandb.ai/gcpage/loraw_dev/runs/cao0xeum' target=\"_blank\">https://wandb.ai/gcpage/loraw_dev/runs/cao0xeum</a>"
      ],
      "text/plain": [
       "<IPython.core.display.HTML object>"
      ]
     },
     "metadata": {},
     "output_type": "display_data"
    }
   ],
   "source": [
    "run = wandb.init(project='loraw_dev')"
   ]
  },
  {
   "cell_type": "code",
   "execution_count": 38,
   "metadata": {},
   "outputs": [],
   "source": [
    "debug = True\n",
    "seed = 1234\n",
    "sample_rate = 16000\n",
    "chunk_size = 65536"
   ]
  },
  {
   "cell_type": "code",
   "execution_count": 39,
   "metadata": {},
   "outputs": [
    {
     "name": "stderr",
     "output_type": "stream",
     "text": [
      "\u001b[34m\u001b[1mwandb\u001b[0m: Downloading large artifact maestro_16000_65536:v0, 845.20MB. 1 files... \n",
      "\u001b[34m\u001b[1mwandb\u001b[0m:   1 of 1 files downloaded.  \n",
      "Done. 0:0:6.8\n"
     ]
    }
   ],
   "source": [
    "# Download model\n",
    "model_name = 'maestro_16000_65536'\n",
    "model_artifact = run.use_artifact(f'{model_name}:v0', type='model')\n",
    "checkpoint = Path(model_artifact.download()) / f'{model_name}.ckpt'"
   ]
  },
  {
   "cell_type": "code",
   "execution_count": 40,
   "metadata": {},
   "outputs": [
    {
     "name": "stdout",
     "output_type": "stream",
     "text": [
      "Model file artifacts\\maestro_16000_65536-v0\\maestro_16000_65536.ckpt is invalid. Please run the conversion script.\n",
      " - Default model config will be used, which may be inaccurate.\n"
     ]
    }
   ],
   "source": [
    "# Init request handler\n",
    "device_type_accelerator = get_torch_device_type()\n",
    "device_accelerator = torch.device(device_type_accelerator)\n",
    "\n",
    "request_handler = RequestHandler(device_accelerator, optimize_memory_use=False, use_autocast=True)\n",
    "\n",
    "# Test generation\n",
    "if debug:\n",
    "    request = Request(\n",
    "        request_type=RequestType.Generation,\n",
    "        model_type=ModelType.DD,\n",
    "        model_path=checkpoint,\n",
    "        model_chunk_size=chunk_size,\n",
    "        model_sample_rate=sample_rate,\n",
    "\n",
    "        sampler_type=SamplerType.V_IPLMS,\n",
    "        sampler_args={'use_tqdm': True},\n",
    "\n",
    "        scheduler_type=SchedulerType.V_CRASH,\n",
    "        scheduler_args={\n",
    "            'sigma_min': 0.1,\n",
    "            'sigma_max': 50.0,\n",
    "            'rho': 1.0\n",
    "        },\n",
    "        \n",
    "        seed=seed,\n",
    "        batch_size=8,\n",
    "        steps=50\n",
    "    )\n",
    "    output = request_handler.process_request(request).result\n",
    "    log_audio_tensor(run, 'model_test', output, sample_rate)"
   ]
  },
  {
   "cell_type": "code",
   "execution_count": 46,
   "metadata": {},
   "outputs": [
    {
     "data": {
      "text/html": [
       "Waiting for W&B process to finish... <strong style=\"color:green\">(success).</strong>"
      ],
      "text/plain": [
       "<IPython.core.display.HTML object>"
      ]
     },
     "metadata": {},
     "output_type": "display_data"
    },
    {
     "data": {
      "text/html": [
       " View run <strong style=\"color:#cdcd00\">super-star-4</strong> at: <a href='https://wandb.ai/gcpage/loraw_dev/runs/cao0xeum' target=\"_blank\">https://wandb.ai/gcpage/loraw_dev/runs/cao0xeum</a><br/>Synced 6 W&B file(s), 1 media file(s), 9 artifact file(s) and 0 other file(s)"
      ],
      "text/plain": [
       "<IPython.core.display.HTML object>"
      ]
     },
     "metadata": {},
     "output_type": "display_data"
    },
    {
     "data": {
      "text/html": [
       "Find logs at: <code>.\\wandb\\run-20230705_171945-cao0xeum\\logs</code>"
      ],
      "text/plain": [
       "<IPython.core.display.HTML object>"
      ]
     },
     "metadata": {},
     "output_type": "display_data"
    }
   ],
   "source": [
    "run.finish()"
   ]
  },
  {
   "cell_type": "code",
   "execution_count": null,
   "metadata": {},
   "outputs": [],
   "source": [
    "from lora_diffusion import monkeypatch_replace_lora, monkeypatch_lora, tune_lora_scale\n"
   ]
  }
 ],
 "metadata": {
  "kernelspec": {
   "display_name": "dd",
   "language": "python",
   "name": "python3"
  },
  "language_info": {
   "name": "python",
   "version": "3.10.11"
  },
  "orig_nbformat": 4
 },
 "nbformat": 4,
 "nbformat_minor": 2
}
